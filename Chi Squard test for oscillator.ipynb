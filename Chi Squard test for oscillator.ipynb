{
 "cells": [
  {
   "cell_type": "code",
   "execution_count": 104,
   "metadata": {},
   "outputs": [],
   "source": [
    "%matplotlib inline\n",
    "import pandas as pd\n",
    "import matplotlib.pyplot as pl\n",
    "import numpy as np\n",
    "import scipy.stats as stats\n",
    "from scipy.stats import chisquare\n",
    "from scipy.optimize import curve_fit"
   ]
  },
  {
   "cell_type": "code",
   "execution_count": 105,
   "metadata": {},
   "outputs": [
    {
     "name": "stdout",
     "output_type": "stream",
     "text": [
      "blackWeight4.csv  blackWeight6.csv  GOOD_DATA_blackWeight6.csv\r\n"
     ]
    }
   ],
   "source": [
    "%ls *.csv"
   ]
  },
  {
   "cell_type": "code",
   "execution_count": 106,
   "metadata": {},
   "outputs": [],
   "source": [
    "df = pd.read_csv('blackWeight6.csv')\n",
    "#df.plot('t','theta', marker='.')\n",
    "#df.plot('t','x', marker='.')\n",
    "\n",
    "good5d = df[1:150]\n",
    "\n",
    "good5d = good5d[~np.isnan(good5d.theta)]\n"
   ]
  },
  {
   "cell_type": "code",
   "execution_count": 107,
   "metadata": {},
   "outputs": [
    {
     "data": {
      "image/png": "[encoded data removed]",
      "text/plain": [
       "<Figure size 432x288 with 1 Axes>"
      ]
     },
     "metadata": {
      "needs_background": "light"
     },
     "output_type": "display_data"
    }
   ],
   "source": [
    "pl.plot(good5d.t, good5d.theta, marker = '.')\n",
    "pl.grid\n",
    "\n",
    "\n",
    "def model(t,A, omega, phi, offset):\n",
    "    return A*np.sin(omega*t + phi) + offset\n",
    "\n"
   ]
  },
  {
   "cell_type": "code",
   "execution_count": 108,
   "metadata": {},
   "outputs": [],
   "source": [
    "A0 = 350\n",
    "omega0 = 2*np.pi /2\n",
    "dtheta = 360/1000\n",
    "sig = np.ones(len(good5d.t))*dtheta\n",
    "\n",
    "par, cov = curve_fit(model,good5d.t, good5d.theta, p0=(A0, omega0, 0,0))"
   ]
  },
  {
   "cell_type": "code",
   "execution_count": 109,
   "metadata": {
    "scrolled": true
   },
   "outputs": [
    {
     "name": "stdout",
     "output_type": "stream",
     "text": [
      "A = 122.164 +/- 5.982\n",
      "omega = 3.329 +/- 0.026\n",
      "T = 1.888\n"
     ]
    }
   ],
   "source": [
    "A, omega,phi,offset = par\n",
    "dA, dOmega, dPhi, dOffset = np.sqrt(np.diag(cov))\n",
    "\n",
    "print('A = %5.3f +/- %5.3f' % (A,dA))\n",
    "print('omega = %5.3f +/- %5.3f' % (omega,dOmega))\n",
    "\n",
    "print('T = %5.3f' % (2*np.pi/omega))\n"
   ]
  },
  {
   "cell_type": "markdown",
   "metadata": {},
   "source": [
    "Chi squared info here https://www.youtube.com/watch?v=QE0v3HHcKbs"
   ]
  },
  {
   "cell_type": "code",
   "execution_count": 125,
   "metadata": {},
   "outputs": [
    {
     "name": "stdout",
     "output_type": "stream",
     "text": [
      "Our chi squared stastic is 162.25770272665633\n",
      "if the p_value is under 0.05 then it our model works! p is 0.0\n"
     ]
    }
   ],
   "source": [
    "expected = model(good5d.t, A, omega, phi,offset);\n",
    "\n",
    "chi_squared_stat = (((good5d.theta - expected)**2)/expected).sum()\n",
    "\n",
    "print('Our chi squared stastic is', chi_squared_stat)\n",
    "\n",
    "crit = stats.chi2.ppf( q = 0.9, df = 1)\n",
    "p_value = 1 - stats.chi2.cdf(x = chi_squared_stat, df = 1)\n",
    "\n",
    "print('if the p_value is under 0.05 then it our model works! p is', p_value)"
   ]
  },
  {
   "cell_type": "code",
   "execution_count": null,
   "metadata": {},
   "outputs": [],
   "source": []
  }
 ],
 "metadata": {
  "kernelspec": {
   "display_name": "Python 3",
   "language": "python",
   "name": "python3"
  },
  "language_info": {
   "codemirror_mode": {
    "name": "ipython",
    "version": 3
   },
   "file_extension": ".py",
   "mimetype": "text/x-python",
   "name": "python",
   "nbconvert_exporter": "python",
   "pygments_lexer": "ipython3",
   "version": "3.7.0"
  }
 },
 "nbformat": 4,
 "nbformat_minor": 2
}
